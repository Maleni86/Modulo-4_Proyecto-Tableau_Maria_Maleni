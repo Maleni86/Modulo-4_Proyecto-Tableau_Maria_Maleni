{
 "cells": [
  {
   "cell_type": "markdown",
   "id": "dba5bdb5",
   "metadata": {},
   "source": [
    "**Exploración inicial**"
   ]
  },
  {
   "cell_type": "markdown",
   "id": "123ff274",
   "metadata": {},
   "source": [
    "1. Archivo n_movies.csv: Información más orientada a características técnicas y de calidad \n",
    "2. Archivo netflix_titles: Información de catálogo de Netflix"
   ]
  },
  {
   "cell_type": "markdown",
   "id": "20b41022",
   "metadata": {},
   "source": [
    "``Columnas archivo principal (n_movies):``\n",
    "\n",
    "- title: Título de la película o serie.    \n",
    "- year: Año en el que se estrena la película o serie.      \n",
    "- certificate: Clasificación de contenido por edad (el tipo de dato TV-MA por ejemplo, es la clasificación utilizada en EEUU)   \n",
    "- duration: Duración de la película/serie.   \n",
    "- genre: Género al que pertenece.\n",
    "- rating: Puntuación del público o crítica.       \n",
    "- description: Sinopsis de la película/serie. \n",
    "- stars: Actores involucrados.        \n",
    "- votes: Número de personas que votaron sobre la película/serie (columna rating)      "
   ]
  },
  {
   "cell_type": "markdown",
   "id": "1c419fa5",
   "metadata": {},
   "source": [
    "``Columnas archivo complementario (netflix_titles):``\n",
    "\n",
    "- Type: Diferencia entre película o serie.\n",
    "- Title: Título de la película o serie.\n",
    "- Director: Quién dirige la película.\n",
    "- Cast: Elenco, repertorio de actores.\n",
    "- Country: País donde fue producida la película/serie.\n",
    "- Date_added: Fecha en la que se añadió al catálogo de Netflix.\n",
    "- Release_year: Año en el que se estrenó.\n",
    "- Rating: Clasificación de contenido por edad (el tipo de dato TV-MA por ejemplo, es la clasificación utilizada en EEUU) IGUAL A CERTIFICATE EN ARCHIVO PPAL,CUIDADO\n",
    "- Duration: Duración de la película/serie.\n",
    "- Listed_in: Género o categoría de la película/serie.\n",
    "- Description: Sinopsis de la película/serie."
   ]
  },
  {
   "cell_type": "markdown",
   "id": "424d2485",
   "metadata": {},
   "source": [
    "``Sugerencias de cambios primer archivo``:\n",
    "\n",
    "- Title: ☑️\n",
    "- Year: ♻️ Hay datos nulos.Eliminar los paréntesis/ Eliminar cualquier texto no numérico como \"I\", \"II y extraer el primer año del rango si existe un guion, o simplemente el año si es solo un valor único. Podemos añadir una columna que se llame \"En emision\".(yes/no)\n",
    "- Certificate:♻️ Hay datos nulos. Buscar las clasificaciones más relevantes y las demás sustituirlas por \"Unknown\".\n",
    "- Duration:♻️ Hay datos nulos. Eliminar min y cambiar columna a tipo int.\n",
    "- Genre: ♻️ Hay datos nulos. Podemos reemplazar comas por otro tipo de delimitador, por ejemplo / o filtrar géneros no deseados como short,talk-show\n",
    "- Rating: ♻️ Hay datos nulos. Renombrar columna para que no haya confusion con el rating del segundo archivo\n",
    "- Description: ❌\n",
    "- Stars: ♻️ Contiene | que no aporta nada. Reemplazar | por espacios, stars por espacios,comas por otro delimitador si se desea\n",
    "- Votes: ♻️ Hay datos nulos. Tiene comas como miles y es de tipo object, habrá que cambiarla a tipo int. Limpiar con .str.replace(\",\", \"\").astype(int)\n"
   ]
  },
  {
   "cell_type": "markdown",
   "id": "51ab491b",
   "metadata": {},
   "source": [
    "``Sugerencias de cambios segundo archivo``:\n",
    "\n",
    "- Show_id:❌ No aporta valor. Es un índice, yo borraría.\n",
    "- Type: ☑️\n",
    "- Title: ☑️\n",
    "- Director: ♻️ Hay datos nulos.\n",
    "- Cast (elenco,repertorio): ❌ Hay datos nulos. (valorar borrarla)\n",
    "- Country: ♻️ Hay datos nulos.\n",
    "- Date_added: ❌\n",
    "- Release_year: ☑️\n",
    "- Rating: ♻️ Hay datos nulos. Sustituir valores que aparecen como 74 min/84 min... por \"desconocido\"\n",
    "- Duration: ♻️ Hay datos nulos. Está como object y sale la duracion + min. En otros casos, al ser serie,sale por temporadas. Opciones: hacer una nueva columna con duración de las series y otra para las peliculas y tratar las columnas cambiando tipo de dato a int y reemplazando \"min\" por espacio.\n",
    "- Listed_in: ❌ Géneros separados por coma en un solo string. No sé si aporta valor teniendo un genre (?)\n",
    "- Description: ❌"
   ]
  },
  {
   "cell_type": "markdown",
   "id": "340506bf",
   "metadata": {},
   "source": [
    "``Pendiente:``\n",
    "- Comprobar qué columnas tienen nulos de cada archivo y qué podemos hacer con ellos.\n",
    "- Comprobar juntas las columnas y si estamos de acuerdo con los cambios a realizar. \n",
    "- Consultar qué columna de unión nos puede servir \n",
    "- Columna duration: En cada CSV tenemos diferentes datos. En el primero, minutos; en el segundo; minutos para pelis y temporadas para series. SOS"
   ]
  },
  {
   "cell_type": "markdown",
   "id": "2124fbb1",
   "metadata": {},
   "source": []
  },
  {
   "cell_type": "markdown",
   "id": "d41d8258",
   "metadata": {},
   "source": []
  },
  {
   "cell_type": "markdown",
   "id": "762c6290",
   "metadata": {},
   "source": []
  },
  {
   "cell_type": "code",
   "execution_count": null,
   "id": "5ed502ff",
   "metadata": {},
   "outputs": [],
   "source": []
  }
 ],
 "metadata": {
  "language_info": {
   "name": "python"
  }
 },
 "nbformat": 4,
 "nbformat_minor": 5
}
