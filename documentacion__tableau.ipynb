{
 "cells": [
  {
   "cell_type": "markdown",
   "id": "dba5bdb5",
   "metadata": {},
   "source": [
    "**Exploración inicial**"
   ]
  },
  {
   "cell_type": "markdown",
   "id": "123ff274",
   "metadata": {},
   "source": [
    "1. Archivo n_movies.csv: Información más orientada a características técnicas y de calidad \n",
    "2. Archivo netflix_titles: Información de catálogo de Netflix"
   ]
  },
  {
   "cell_type": "markdown",
   "id": "20b41022",
   "metadata": {},
   "source": [
    "``Columnas archivo principal (n_movies):``\n",
    "\n",
    "- title: Título de la película o serie.    \n",
    "- year: Año en el que se estrena la película o serie.      \n",
    "- certificate: Clasificación de contenido por edad (el tipo de dato TV-MA por ejemplo, es la clasificación utilizada en EEUU)   \n",
    "- duration: Duración de la película/serie.   \n",
    "- genre: Género al que pertenece.\n",
    "- rating: Puntuación del público o crítica.       \n",
    "- description: Sinopsis de la película/serie. \n",
    "- stars: Actores involucrados.        \n",
    "- votes: Número de personas que votaron sobre la película/serie (columna rating)      "
   ]
  },
  {
   "cell_type": "markdown",
   "id": "1c419fa5",
   "metadata": {},
   "source": [
    "``Columnas archivo complementario (netflix_titles):``\n",
    "\n",
    "- Type: Diferencia entre película o serie.\n",
    "- Title: Título de la película o serie.\n",
    "- Director: Quién dirige la película.\n",
    "- Cast: Elenco, repertorio de actores.\n",
    "- Country: País donde fue producida la película/serie.\n",
    "- Date_added: Fecha en la que se añadió al catálogo de Netflix.\n",
    "- Release_year: Año en el que se estrenó.\n",
    "- Rating: Clasificación de contenido por edad (el tipo de dato TV-MA por ejemplo, es la clasificación utilizada en EEUU) IGUAL A CERTIFICATE EN ARCHIVO PPAL,CUIDADO\n",
    "- Duration: Duración de la película/serie.\n",
    "- Listed_in: Género o categoría de la película/serie.\n",
    "- Description: Sinopsis de la película/serie."
   ]
  },
  {
   "cell_type": "markdown",
   "id": "424d2485",
   "metadata": {},
   "source": [
    "``Sugerencias de cambios primer archivo``:\n",
    "\n",
    "- Title: ♻️ Hacer un  lower antes de la union\n",
    "- Year:  ❌ lo tenemos en el tercer archivo como release_year\n",
    "- Certificate:♻️ Hay datos nulos. Buscar las clasificaciones más relevantes y las demás sustituirlas por \"Unknown\". Quizás borrarlo si tenemos rating en 3archivo(?)\n",
    "- Duration:❌ tercer archivo\n",
    "- Genre: ❌ nos quedamos con listed_in\n",
    "- Rating: ♻️ Hay datos nulos. Renombrar columna para que no haya confusion con el rating del segundo archivo\n",
    "- Description: ❌\n",
    "- Stars: ♻️ Contiene | que no aporta nada. Reemplazar | por espacios, stars por espacios,comas por otro delimitador si se desea\n",
    "- Votes: ♻️ Hay datos nulos. Tiene comas como miles y es de tipo object, habrá que cambiarla a tipo int. Limpiar con .str.replace(\",\", \"\").astype(int)\n"
   ]
  },
  {
   "cell_type": "markdown",
   "id": "0010cf0d",
   "metadata": {},
   "source": [
    "``Sugerencias de cambios tercero archivo``:\n",
    "\n",
    "- Show_id:❌\n",
    "- Type: ♻️ Hacer un  lower antes de la union\n",
    "- Title: ♻️ Hay mayúsculas y minúsculas. Consultar si a pesar de eso se puede unir por titulo?\n",
    "- Director: ☑️\n",
    "- Country: ☑️\n",
    "- date_added: ♻️ Hacer dos columnas. Una para mes/año. Modificar columna a tipo int.\n",
    "- release_year: ☑️\n",
    "- rating: ☑️\n",
    "- Duration: ♻️  Cambiar a int. Reemplazar min por espacio. Renombrar columna con nombre_columna(min) para saber que son minutos y no horas. Con respecto a las series, crear una nueva columna con las temporadas tipo int reemplazando \"seasons\" por espacio.\n",
    "- Listed_in: ♻️ Split para quedarnos con la primera\n"
   ]
  },
  {
   "cell_type": "markdown",
   "id": "340506bf",
   "metadata": {},
   "source": [
    "``Pendiente:``\n",
    "\n",
    "- Hacer lower en columna title de ambos df antes de la unión ☑️ ¡Hecho!\n",
    "- Hacer unión de df ☑️ ¡Hecho!\n",
    "- Comenzar limpieza de columnas según documentación\n",
    "- Gestionar nulos\n"
   ]
  },
  {
   "cell_type": "markdown",
   "id": "2124fbb1",
   "metadata": {},
   "source": []
  },
  {
   "cell_type": "markdown",
   "id": "d41d8258",
   "metadata": {},
   "source": []
  },
  {
   "cell_type": "markdown",
   "id": "762c6290",
   "metadata": {},
   "source": []
  },
  {
   "cell_type": "code",
   "execution_count": null,
   "id": "5ed502ff",
   "metadata": {},
   "outputs": [],
   "source": []
  }
 ],
 "metadata": {
  "kernelspec": {
   "display_name": "base",
   "language": "python",
   "name": "python3"
  },
  "language_info": {
   "codemirror_mode": {
    "name": "ipython",
    "version": 3
   },
   "file_extension": ".py",
   "mimetype": "text/x-python",
   "name": "python",
   "nbconvert_exporter": "python",
   "pygments_lexer": "ipython3",
   "version": "3.12.7"
  }
 },
 "nbformat": 4,
 "nbformat_minor": 5
}
