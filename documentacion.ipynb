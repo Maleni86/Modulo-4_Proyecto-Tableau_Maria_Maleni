{
 "cells": [
  {
   "cell_type": "markdown",
   "id": "dba5bdb5",
   "metadata": {},
   "source": [
    "**Exploración inicial**"
   ]
  },
  {
   "cell_type": "markdown",
   "id": "123ff274",
   "metadata": {},
   "source": [
    "1. Archivo n_movies.csv: Información más orientada a características técnicas y de calidad \n",
    "2. Archivo netflix1: Información de catálogo de Netflix"
   ]
  },
  {
   "cell_type": "markdown",
   "id": "20b41022",
   "metadata": {},
   "source": [
    "``Columnas archivo principal (n_movies):``\n",
    "\n",
    "- title: Título de la película o serie.    \n",
    "- year: Año en el que se estrena la película o serie.      \n",
    "- certificate: Clasificación de contenido por edad (el tipo de dato TV-MA por ejemplo, es la clasificación utilizada en EEUU)   \n",
    "- duration: Duración de la película/serie.   \n",
    "- genre: Género al que pertenece.\n",
    "- rating: Puntuación del público o crítica.       \n",
    "- description: Sinopsis de la película/serie. \n",
    "- stars: Actores involucrados.        \n",
    "- votes: Número de personas que votaron sobre la película/serie (columna rating)      "
   ]
  },
  {
   "cell_type": "markdown",
   "id": "1c419fa5",
   "metadata": {},
   "source": [
    "``Columnas archivo complementario (netflix1):``\n",
    "\n",
    "- Type: Diferencia entre película o serie.\n",
    "- Title: Título de la película o serie.\n",
    "- Director: Quién dirige la película.\n",
    "- Cast: Elenco, repertorio de actores.\n",
    "- Country: País donde fue producida la película/serie.\n",
    "- Date_added: Fecha en la que se añadió al catálogo de Netflix.\n",
    "- Release_year: Año en el que se estrenó.\n",
    "- Rating: Clasificación de contenido por edad (el tipo de dato TV-MA por ejemplo, es la clasificación utilizada en EEUU) IGUAL A CERTIFICATE EN ARCHIVO PPAL,CUIDADO\n",
    "- Duration: Duración de la película/serie.\n",
    "- Listed_in: Género o categoría de la película/serie.\n",
    "- Description: Sinopsis de la película/serie."
   ]
  },
  {
   "cell_type": "markdown",
   "id": "424d2485",
   "metadata": {},
   "source": [
    "``Sugerencias de cambios primer archivo``:\n",
    "\n",
    "- Title: ♻️ Hacer un  lower antes de la union\n",
    "- Year:  ❌ lo tenemos en el tercer archivo como release_year\n",
    "- Certificate:♻️ Hay datos nulos. Buscar las clasificaciones más relevantes y las demás sustituirlas por \"Unknown\". Quizás borrarlo si tenemos rating en 3archivo(?)\n",
    "- Duration:❌ tercer archivo\n",
    "- Genre: ❌ nos quedamos con listed_in\n",
    "- Rating: ♻️ Hay datos nulos. Renombrar columna para que no haya confusion con el rating del segundo archivo\n",
    "- Description: ❌\n",
    "- Stars: ♻️ Contiene | que no aporta nada. Reemplazar | por espacios, stars por espacios,comas por otro delimitador si se desea\n",
    "- Votes: ♻️ Hay datos nulos. Tiene comas como miles y es de tipo object, habrá que cambiarla a tipo int. Limpiar con .str.replace(\",\", \"\").astype(int)\n"
   ]
  },
  {
   "cell_type": "markdown",
   "id": "0010cf0d",
   "metadata": {},
   "source": [
    "``Sugerencias de cambios tercer archivo``:\n",
    "\n",
    "- Show_id:❌\n",
    "- Type: ♻️ Hacer un  lower antes de la union. Actualización: No hacemos los cambios mencionados porque no se pierden datos (columna sin nulos)\n",
    "- Title: ♻️ Hay mayúsculas y minúsculas. Actualización: Ya modificado antes de la unión de df\n",
    "- Director: ☑️\n",
    "- Country: ☑️\n",
    "- date_added: ♻️ Hacer dos columnas. Una para mes/año. Modificar columna a tipo int.\n",
    "- release_year: ☑️\n",
    "- rating: ☑️\n",
    "- Duration: ♻️  Cambiar a int. Reemplazar min por espacio. Renombrar columna con nombre_columna(min) para saber que son minutos y no horas. Con respecto a las series, crear una nueva columna con las temporadas tipo int reemplazando \"seasons\" por espacio.\n",
    "- Listed_in: ♻️ Split para quedarnos con la primera\n"
   ]
  },
  {
   "cell_type": "markdown",
   "id": "340506bf",
   "metadata": {},
   "source": [
    "``Pendiente:``\n",
    "\n",
    "- Gestionar nulos que queden en las columnas tras la limpieza.\n",
    "- Limpieza: Quedan pendientes las siguientes columnas:\n",
    "\n",
    "1. Duration_x\n",
    "2. Duration_y (borrar columna si conseguimos limpiar duration_x; si no se consigue, valorar dejar estar en lugar de duration_x según los nulos que deje)\n",
    "3. Stars: Se han hecho los cambios correspondientes (plantear borrar columna si consideramos que no aporta valor o hacerlo con un código más sencillo; no he conseguido hacerlo de otra forma)\n",
    "4. Votes: Como hay valores nulos no se puede convertir NaN a int directamente.(hay un porcentaje del 2.18%) Podemos:\n",
    " - Eliminar filas con Nan antes de convertir. \n",
    " - Rellenar los NaN con 0 (o con lo que se quiera)\n",
    "\n",
    "\n",
    " \n",
    "\n"
   ]
  },
  {
   "cell_type": "markdown",
   "id": "2124fbb1",
   "metadata": {},
   "source": [
    "``Realizado:``\n",
    "\n",
    "- Hacer lower en columna title de ambos df antes de la unión ☑️ ¡Hecho!\n",
    "- Hacer unión de df ☑️ ¡Hecho!\n",
    "- Limpieza:\n",
    " 1. **Columna date_added:** ☑️ ¡Hecho! Creamos dos columnas month_added y year_added, realizamos los cambios que se indican y borramos la columna una vez hecho (date_added)\n",
    " 2. **Columna listed_in:**  ☑️ ¡Hecho! Renombramos la columna listed_in por genre. Hacemos split para quedarnos con el primer elemento (primer género en cada valor)\n",
    " 3. **Columna show_id:**    ☑️ ¡Hecho! Borramos columna; no aporta valor.(docu)\n",
    " 4. **Columna year:**       ☑️ ¡Hecho! Borramos columna; no aporta valor, tenemos los datos en la columna release_year.\n",
    " 5. **Columna description:** ☑️ ¡Hecho! Borramos columna; no aporta valor.(docu)\n",
    " 6. **Columna rating_x:**   ☑️ ¡Hecho! Renombramos columna a \"age_rating\" (docu: recordamos que esta columna representa la clasificación por edad)\n",
    " 7. **Columna votes:**      Se han hecho comprobaciones de los nulos de la columna y el porcentaje de los mismos. Hay que valorar qué hacer con ellos antes de poder cambiar la columna (ver pendientes)\n",
    " 8. **Columna rating_y:**  ☑️ ¡Hecho!Renombramos columna a \"rating\" para que no haya confusión con \"rating_x\" (que actualmente se llama \"age_rating\")\n",
    " 9. **Columna stars:**     ☑️ ¡Hecho! Se han hecho los cambios señalados; sustituir |,la palabra \"stars\" y demás por espacios.\n",
    " 10. **Columna certificate:** ☑️ ¡Hecho! Buscamos info de las clasificaciones actuales de EEUU y descrubrimos que las categorías \"unrated\"/\"not rated\"/\"approved\"/\"passed\" pertenecen a la clasificación antigua que se hacía, sustituida por PG-13/TV-MA y demás. Comparamos las clasificaciones para agruparlas y gestionar sus nulos pero vemos que la columna \"age_rating\" contiene la misma información pero sin nulos (ver documento de limpieza) Borramos columna \"certificate\".\n",
    "\n",
    "Se han gestionado las **filas duplicadas** (las hemos borrado manteniendo la primera ocurrencia con el parámetro keep=first)."
   ]
  },
  {
   "cell_type": "code",
   "execution_count": null,
   "id": "a53aeae3",
   "metadata": {},
   "outputs": [],
   "source": []
  },
  {
   "cell_type": "markdown",
   "id": "d41d8258",
   "metadata": {},
   "source": [
    "``Información relevante para la comprensión de la columna \"Certificate\" y su posterior análisis:`` \n",
    "\n",
    "- 'PG-13' = Parental Guidance-13\n",
    "- 'TV-MA' = TV Mature Audience. Exclusivamente para adultos\n",
    "- 'TV-PG'= TV Parental Guidance. Apto para la mayoría de los niños, pero algunos episodios pueden no ser apropiados para menores de 10 años\n",
    "- 'PG' = Parental Guidance. Se recomienda supervisión parental para los niños\n",
    "- 'TV-14' = Se recomienda para adolescentes de 14 años en adelante.\n",
    "- 'TV-Y' (TV Youth) = Apto para todo público, especialmente para niños pequeños.\n",
    "- TV-G' (TV General Audience) = Apto para toda la familia.\n",
    "- 'TV-Y7' (TV Youth 7) = Apto para niños mayores de 7 años\n",
    "- 'R' (Restricted) = Restricción para menores de 17 años. Los menores de 17 deben ir acompañados de un adulto.\n",
    "- 'TV-Y7-FV' (TV Youth 7 - Fantasy Violence) Apto para niños mayores de 7 años, pero con advertencia adicional sobre violencia de fantasía. \n",
    "- '12' = Generalmente utilizado en Europa (como en el sistema de clasificación británico), significa que el contenido es adecuado para personas mayores de 12 años\n",
    "- 'G' (General Audience) = Apto para todo público.\n",
    "- 'NC-17' (No Children Under 17) Exclusivamente para adultos. No es adecuado para menores de 17 años debido a contenido explícito.\n",
    "\n",
    "\n"
   ]
  },
  {
   "cell_type": "markdown",
   "id": "762c6290",
   "metadata": {},
   "source": [
    "``Clasificación de la columna de manera general:``\n",
    "\n",
    "1. **Clasificación General/Familiar:**\n",
    "\n",
    "'G', 'TV-Y', 'TV-G', 'TV-Y7'\n",
    "\n",
    "2. **Con Advertencia para Niños/Adolescentes:**\n",
    "\n",
    "'PG', 'TV-PG', 'PG-13', 'TV-Y7-FV'\n",
    "\n",
    "3. **Adolescentes y Jóvenes Adultos:**\n",
    "\n",
    "'TV-14', '12'\n",
    "\n",
    "4. **Solo Adultos:**\n",
    "\n",
    "'R', 'NC-17', 'TV-MA'\n",
    "\n",
    "5. **Sin Clasificación Oficial:**\n",
    "\n",
    "'Not Rated', 'Unrated'\n",
    "\n",
    "6. **Clasificación Antiguas:**\n",
    "\n",
    "'Approved', 'Passed'"
   ]
  },
  {
   "cell_type": "code",
   "execution_count": null,
   "id": "5ed502ff",
   "metadata": {},
   "outputs": [],
   "source": []
  }
 ],
 "metadata": {
  "kernelspec": {
   "display_name": "base",
   "language": "python",
   "name": "python3"
  },
  "language_info": {
   "codemirror_mode": {
    "name": "ipython",
    "version": 3
   },
   "file_extension": ".py",
   "mimetype": "text/x-python",
   "name": "python",
   "nbconvert_exporter": "python",
   "pygments_lexer": "ipython3",
   "version": "3.12.7"
  }
 },
 "nbformat": 4,
 "nbformat_minor": 5
}
