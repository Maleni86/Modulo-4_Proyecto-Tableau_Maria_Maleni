{
 "cells": [
  {
   "cell_type": "markdown",
   "id": "dba5bdb5",
   "metadata": {},
   "source": [
    "**Exploración inicial**"
   ]
  },
  {
   "cell_type": "markdown",
   "id": "123ff274",
   "metadata": {},
   "source": [
    "1. Archivo n_movies.csv: Información más orientada a características técnicas y de calidad \n",
    "2. Archivo netflix1: Información de catálogo de Netflix"
   ]
  },
  {
   "cell_type": "markdown",
   "id": "20b41022",
   "metadata": {},
   "source": [
    "``Columnas archivo principal (n_movies):``\n",
    "\n",
    "- title: Título de la película o serie.    \n",
    "- year: Año en el que se estrena la película o serie.      \n",
    "- certificate: Clasificación de contenido por edad (el tipo de dato TV-MA por ejemplo, es la clasificación utilizada en EEUU)   \n",
    "- duration: Duración de la película/serie.   \n",
    "- genre: Género al que pertenece.\n",
    "- rating: Puntuación del público o crítica.       \n",
    "- description: Sinopsis de la película/serie. \n",
    "- stars: Actores involucrados.        \n",
    "- votes: Número de personas que votaron sobre la película/serie (columna rating)      "
   ]
  },
  {
   "cell_type": "markdown",
   "id": "1c419fa5",
   "metadata": {},
   "source": [
    "``Columnas archivo complementario (netflix1):``\n",
    "\n",
    "- Type: Diferencia entre película o serie.\n",
    "- Title: Título de la película o serie.\n",
    "- Director: Quién dirige la película.\n",
    "- Cast: Elenco, repertorio de actores.\n",
    "- Country: País donde fue producida la película/serie.\n",
    "- Date_added: Fecha en la que se añadió al catálogo de Netflix.\n",
    "- Release_year: Año en el que se estrenó.\n",
    "- Rating: Clasificación de contenido por edad (el tipo de dato TV-MA por ejemplo, es la clasificación utilizada en EEUU) IGUAL A CERTIFICATE EN ARCHIVO PPAL,CUIDADO\n",
    "- Duration: Duración de la película/serie.\n",
    "- Listed_in: Género o categoría de la película/serie.\n",
    "- Description: Sinopsis de la película/serie."
   ]
  },
  {
   "cell_type": "markdown",
   "id": "424d2485",
   "metadata": {},
   "source": [
    "``Sugerencias de cambios primer archivo``:\n",
    "\n",
    "- Title: ♻️ Hacer un  lower antes de la union\n",
    "- Year:  ❌ lo tenemos en el tercer archivo como release_year\n",
    "- Certificate:♻️ Hay datos nulos. Buscar las clasificaciones más relevantes y las demás sustituirlas por \"Unknown\". Quizás borrarlo si tenemos rating en 3archivo(?)\n",
    "- Duration:❌ tercer archivo\n",
    "- Genre: ❌ nos quedamos con listed_in\n",
    "- Rating: ♻️ Hay datos nulos. Renombrar columna para que no haya confusion con el rating del segundo archivo\n",
    "- Description: ❌\n",
    "- Stars: ♻️ Contiene | que no aporta nada. Reemplazar | por espacios, stars por espacios,comas por otro delimitador si se desea\n",
    "- Votes: ♻️ Hay datos nulos. Tiene comas como miles y es de tipo object, habrá que cambiarla a tipo int. Limpiar con .str.replace(\",\", \"\").astype(int)\n"
   ]
  },
  {
   "cell_type": "markdown",
   "id": "0010cf0d",
   "metadata": {},
   "source": [
    "``Sugerencias de cambios tercer archivo``:\n",
    "\n",
    "- Show_id:❌\n",
    "- Type: ♻️ Hacer un  lower antes de la union. Actualización: No hacemos los cambios mencionados porque no se pierden datos (columna sin nulos)\n",
    "- Title: ♻️ Hay mayúsculas y minúsculas. Actualización: Ya modificado antes de la unión de df\n",
    "- Director: ☑️\n",
    "- Country: ☑️\n",
    "- date_added: ♻️ Hacer dos columnas. Una para mes/año. Modificar columna a tipo int.\n",
    "- release_year: ☑️\n",
    "- rating: ☑️\n",
    "- Duration: ♻️  Cambiar a int. Reemplazar min por espacio. Renombrar columna con nombre_columna(min) para saber que son minutos y no horas. Con respecto a las series, crear una nueva columna con las temporadas tipo int reemplazando \"seasons\" por espacio.\n",
    "- Listed_in: ♻️ Split para quedarnos con la primera\n"
   ]
  },
  {
   "cell_type": "markdown",
   "id": "2124fbb1",
   "metadata": {},
   "source": [
    "``Realizado:``\n",
    "\n",
    "- Hacer lower en columna title de ambos df antes de la unión ☑️ ¡Hecho!\n",
    "- Hacer unión de df ☑️ ¡Hecho!\n",
    "- Limpieza:\n",
    " 1. **Columna date_added:** ☑️ ¡Hecho! Creamos dos columnas month_added y year_added, realizamos los cambios que se indican y borramos la columna una vez hecho (date_added)\n",
    " 2. **Columna listed_in:**  ☑️ ¡Hecho! Renombramos la columna listed_in por genre. Hacemos split para quedarnos con el primer elemento (primer género en cada valor)\n",
    " 3. **Columna show_id:**    ☑️ ¡Hecho! Borramos columna; no aporta valor.(docu)\n",
    " 4. **Columna year:**       ☑️ ¡Hecho! Borramos columna; no aporta valor, tenemos los datos en la columna release_year.\n",
    " 5. **Columna description:** ☑️ ¡Hecho! Borramos columna; no aporta valor.(docu)\n",
    " 6. **Columna rating_x:**   ☑️ ¡Hecho! Renombramos columna a \"age_rating\" (docu: recordamos que esta columna representa la clasificación por edad)\n",
    " 7. **Columna votes:**      ☑️ ¡Hecho! Sustitumos comas por espacios y modificamos tipo de dato de object a int.\n",
    " 8. **Columna rating_y:**  ☑️ ¡Hecho!Renombramos columna a \"rating\" para que no haya confusión con \"rating_x\" (que actualmente se llama \"age_rating\")\n",
    " 9. **Columna stars:**     ☑️ ¡Hecho! Se han hecho los cambios señalados; sustituir |,la palabra \"stars\" y demás por espacios. Nos quedamos con el primer actor de la cadena de texto.\n",
    " 10. **Columna certificate:** ☑️ ¡Hecho! Buscamos info de las clasificaciones actuales de EEUU y descrubrimos que las categorías \"unrated\"/\"not rated\"/\"approved\"/\"passed\" pertenecen a la clasificación antigua que se hacía, sustituida por PG-13/TV-MA y demás. Comparamos las clasificaciones para agruparlas y gestionar sus nulos pero vemos que la columna \"age_rating\" contiene la misma información pero sin nulos (ver documento de limpieza) Borramos columna \"certificate\".\n",
    " 11. **Columna duration_x:**  ☑️ ¡Hecho! Limpiamos min; añadimos columna \"seasons\"; cambiamos tipo de dato. Borramos la columna; hemos pasado sus datos a columna \"seasons\" y \"duration_min\" respectivamente.\n",
    " 12. **Columna duration_y:**  ☑️ ¡Hecho!Borramos la columna; hemos pasado sus datos a columna \"seasons\" y \"duration_min\" respectivamente.\n",
    " \n",
    "Se han gestionado los nulos.\n",
    "Se han gestionado las **filas duplicadas** (las hemos borrado manteniendo la primera ocurrencia con el parámetro keep=first)."
   ]
  },
  {
   "cell_type": "markdown",
   "id": "a53aeae3",
   "metadata": {},
   "source": [
    "No hacer promedios en rating ni votes"
   ]
  },
  {
   "cell_type": "markdown",
   "id": "d41d8258",
   "metadata": {},
   "source": [
    "``Información relevante para la comprensión de la columna \"Certificate\" y su posterior análisis:`` \n",
    "\n",
    "- 'PG-13' = Parental Guidance-13\n",
    "- 'TV-MA' = TV Mature Audience. Exclusivamente para adultos\n",
    "- 'TV-PG'= TV Parental Guidance. Apto para la mayoría de los niños, pero algunos episodios pueden no ser apropiados para menores de 10 años\n",
    "- 'PG' = Parental Guidance. Se recomienda supervisión parental para los niños\n",
    "- 'TV-14' = Se recomienda para adolescentes de 14 años en adelante.\n",
    "- 'TV-Y' (TV Youth) = Apto para todo público, especialmente para niños pequeños.\n",
    "- TV-G' (TV General Audience) = Apto para toda la familia.\n",
    "- 'TV-Y7' (TV Youth 7) = Apto para niños mayores de 7 años\n",
    "- 'R' (Restricted) = Restricción para menores de 17 años. Los menores de 17 deben ir acompañados de un adulto.\n",
    "- 'TV-Y7-FV' (TV Youth 7 - Fantasy Violence) Apto para niños mayores de 7 años, pero con advertencia adicional sobre violencia de fantasía. \n",
    "- '12' = Generalmente utilizado en Europa (como en el sistema de clasificación británico), significa que el contenido es adecuado para personas mayores de 12 años\n",
    "- 'G' (General Audience) = Apto para todo público.\n",
    "- 'NC-17' (No Children Under 17) Exclusivamente para adultos. No es adecuado para menores de 17 años debido a contenido explícito.\n",
    "\n",
    "\n"
   ]
  },
  {
   "cell_type": "markdown",
   "id": "762c6290",
   "metadata": {},
   "source": [
    "``Clasificación de la columna de manera general:``\n",
    "\n",
    "1. **Clasificación General/Familiar:**\n",
    "\n",
    "'G', 'TV-Y', 'TV-G', 'TV-Y7'\n",
    "\n",
    "2. **Con Advertencia para Niños/Adolescentes:**\n",
    "\n",
    "'PG', 'TV-PG', 'PG-13', 'TV-Y7-FV'\n",
    "\n",
    "3. **Adolescentes y Jóvenes Adultos:**\n",
    "\n",
    "'TV-14', '12'\n",
    "\n",
    "4. **Solo Adultos:**\n",
    "\n",
    "'R', 'NC-17', 'TV-MA'\n",
    "\n",
    "5. **Sin Clasificación Oficial:**\n",
    "\n",
    "'Not Rated', 'Unrated'\n",
    "\n",
    "6. **Clasificación Antiguas:**\n",
    "\n",
    "'Approved', 'Passed'"
   ]
  },
  {
   "cell_type": "code",
   "execution_count": null,
   "id": "98e9a827",
   "metadata": {
    "vscode": {
     "languageId": "plaintext"
    }
   },
   "outputs": [],
   "source": []
  },
  {
   "cell_type": "markdown",
   "id": "e56e2ef6",
   "metadata": {
    "vscode": {
     "languageId": "plaintext"
    }
   },
   "source": [
    "``Objetivo del proyecto`` \n",
    "\n",
    "Somos una empresa contratada por Netflix con el fin de optimizar el contenido de su plataforma basándonos en los votos y la valoracion de los usuarios."
   ]
  },
  {
   "cell_type": "markdown",
   "id": "5ed502ff",
   "metadata": {},
   "source": [
    "``Visualizaciones Python`` (algunas realizadas/ otras son ideas)\n",
    "\n",
    "- Diferencia entre peliculas y series.\n",
    "- Estreno de la peli/serie y numero de peliculas/series que hay en catalogo (release_year): 2005-2021. Tienes \"x\" peliculas/series en catálogo\n",
    "- Sobre esta última gráfica, decir cuántas personas votan y qué votaciones les dan (release_year) (votes) (rating)\n",
    "- Top mayor producción de peliculas y series por pais (type) (country) para dividir por peliculas o series.Hacer esto de mayor a menor. \n",
    "- Hacer gráfica con las ultimas 10 peliculas/series que producen menos por pais (similar a la anterior gráfica) (con tail)\n",
    "- Gráfica frecuencia de las peliculas y duración (duration_min) comparar esto con la nota que le dan (rating) para que no nos salga la frecuencia (que nos incluye trailers y datos menos relevantes)\n",
    "- Gráfica series por numero de temporadas (seasons). Luego hacer una grafica de seasons por ratinmg para ver si tienen relacion (a más larga menos nota porque se aburren por ejemplo)\n",
    "- Gráfica frecuencia de nota que le dan (rating). Hacer otra por género.(genre) Plantear que rating sea por rangos 1-2 3-4 5-6 7-8 9-10\n",
    "- Gráfica director (excluir \"not given\" o hacer gráfica pie)\n",
    "\n",
    "- Ideas: Utilizar \"age-rating\"- \"rating\" - \"votes\"\n",
    "- Ideas: Gráfica \"stars\" similar a la de \"director\"\n",
    "- Ideas: ver con qué podemos relacionar \"year_added\" cuantas pelis/series han sido añadidas y luego otra gráfica del \"rating\" por año y por \"género\"\n",
    "\n",
    "\n",
    "\n"
   ]
  },
  {
   "cell_type": "markdown",
   "id": "5a5db10a",
   "metadata": {
    "vscode": {
     "languageId": "plaintext"
    }
   },
   "source": [
    "``Visualizaciones Tableau realizadas``\n",
    "\n",
    "- Gráfico pie con proporción de series y películas en la plataforma (type)\n",
    "- Gráfico mapa con los países donde se filman más películas y series (country)\n",
    "- Gráfica de géneros y frecuencia de los mismos en catálogo."
   ]
  },
  {
   "cell_type": "code",
   "execution_count": null,
   "id": "13283eb2",
   "metadata": {
    "vscode": {
     "languageId": "plaintext"
    }
   },
   "outputs": [],
   "source": []
  }
 ],
 "metadata": {
  "kernelspec": {
   "display_name": "base",
   "language": "python",
   "name": "python3"
  },
  "language_info": {
   "codemirror_mode": {
    "name": "ipython",
    "version": 3
   },
   "file_extension": ".py",
   "mimetype": "text/x-python",
   "name": "python",
   "nbconvert_exporter": "python",
   "pygments_lexer": "ipython3",
   "version": "3.12.7"
  }
 },
 "nbformat": 4,
 "nbformat_minor": 5
}
